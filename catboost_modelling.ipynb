{
  "cells": [
    {
      "cell_type": "code",
      "execution_count": 42,
      "metadata": {
        "colab": {
          "base_uri": "https://localhost:8080/",
          "height": 72
        },
        "colab_type": "code",
        "id": "8OnzPUF84dPV",
        "outputId": "2508b69e-8b65-4a80-b413-9a0aaab17c48"
      },
      "outputs": [],
      "source": [
        "import numpy as np\n",
        "import pandas as pd\n",
        "import seaborn as sns\n",
        "from catboost import CatBoostClassifier, Pool\n",
        "from scipy import stats\n",
        "from sklearn.model_selection import train_test_split\n",
        "from sklearn.metrics import f1_score, accuracy_score, classification_report,confusion_matrix,roc_auc_score"
      ]
    },
    {
      "cell_type": "code",
      "execution_count": 30,
      "metadata": {
        "colab": {},
        "colab_type": "code",
        "id": "Y4-9Zgec5Mu9"
      },
      "outputs": [],
      "source": [
        "def resumetable(df):\n",
        "    print(f\"Dataset Shape: {df.shape}\")\n",
        "    summary = pd.DataFrame(df.dtypes,columns=['dtypes'])\n",
        "    summary = summary.reset_index()\n",
        "    summary['Name'] = summary['index']\n",
        "    summary = summary[['Name','dtypes']]\n",
        "    summary['Missing'] = df.isnull().sum().values    \n",
        "    summary['Uniques'] = df.nunique().values\n",
        "    summary['First Value'] = df.loc[0].values\n",
        "    summary['Second Value'] = df.loc[1].values\n",
        "    return summary"
      ]
    },
    {
      "cell_type": "code",
      "execution_count": 31,
      "metadata": {
        "colab": {},
        "colab_type": "code",
        "id": "BBSz0k6Y47su"
      },
      "outputs": [
        {
          "name": "stdout",
          "output_type": "stream",
          "text": [
            "Total number of rows in dataset = 614\n",
            "Total number of columns in dataset = 6\n"
          ]
        }
      ],
      "source": [
        "file_loc = \"./data/loan_data.csv\"\n",
        "df = pd.read_csv(file_loc)\n",
        "print (\"Total number of rows in dataset = {}\".format(df.shape[0]))\n",
        "print (\"Total number of columns in dataset = {}\".format(df.shape[1]))"
      ]
    },
    {
      "cell_type": "code",
      "execution_count": 32,
      "metadata": {
        "colab": {
          "base_uri": "https://localhost:8080/",
          "height": 203
        },
        "colab_type": "code",
        "id": "XB_pQwFu46mO",
        "outputId": "ee2464ab-d1c4-4c7b-8e88-703705008d43"
      },
      "outputs": [
        {
          "data": {
            "text/html": [
              "<div>\n",
              "<style scoped>\n",
              "    .dataframe tbody tr th:only-of-type {\n",
              "        vertical-align: middle;\n",
              "    }\n",
              "\n",
              "    .dataframe tbody tr th {\n",
              "        vertical-align: top;\n",
              "    }\n",
              "\n",
              "    .dataframe thead th {\n",
              "        text-align: right;\n",
              "    }\n",
              "</style>\n",
              "<table border=\"1\" class=\"dataframe\">\n",
              "  <thead>\n",
              "    <tr style=\"text-align: right;\">\n",
              "      <th></th>\n",
              "      <th>ApplicantIncome</th>\n",
              "      <th>CoapplicantIncome</th>\n",
              "      <th>LoanAmount</th>\n",
              "      <th>Loan_Amount_Term</th>\n",
              "      <th>Credit_History</th>\n",
              "      <th>Loan_Status</th>\n",
              "    </tr>\n",
              "  </thead>\n",
              "  <tbody>\n",
              "    <tr>\n",
              "      <th>0</th>\n",
              "      <td>5849.0</td>\n",
              "      <td>0.0</td>\n",
              "      <td>0.0</td>\n",
              "      <td>360.0</td>\n",
              "      <td>Yes</td>\n",
              "      <td>1</td>\n",
              "    </tr>\n",
              "    <tr>\n",
              "      <th>1</th>\n",
              "      <td>4583.0</td>\n",
              "      <td>1508.0</td>\n",
              "      <td>128.0</td>\n",
              "      <td>360.0</td>\n",
              "      <td>Yes</td>\n",
              "      <td>0</td>\n",
              "    </tr>\n",
              "    <tr>\n",
              "      <th>2</th>\n",
              "      <td>3000.0</td>\n",
              "      <td>0.0</td>\n",
              "      <td>66.0</td>\n",
              "      <td>360.0</td>\n",
              "      <td>Yes</td>\n",
              "      <td>1</td>\n",
              "    </tr>\n",
              "  </tbody>\n",
              "</table>\n",
              "</div>"
            ],
            "text/plain": [
              "   ApplicantIncome  CoapplicantIncome  LoanAmount  Loan_Amount_Term  \\\n",
              "0           5849.0                0.0         0.0             360.0   \n",
              "1           4583.0             1508.0       128.0             360.0   \n",
              "2           3000.0                0.0        66.0             360.0   \n",
              "\n",
              "  Credit_History  Loan_Status  \n",
              "0            Yes            1  \n",
              "1            Yes            0  \n",
              "2            Yes            1  "
            ]
          },
          "execution_count": 32,
          "metadata": {},
          "output_type": "execute_result"
        }
      ],
      "source": [
        "df.head(3)"
      ]
    },
    {
      "cell_type": "code",
      "execution_count": 33,
      "metadata": {
        "colab": {
          "base_uri": "https://localhost:8080/",
          "height": 252
        },
        "colab_type": "code",
        "id": "VfGknafk5INC",
        "outputId": "0cbea7a0-0447-454e-d391-07ed607c7717"
      },
      "outputs": [
        {
          "name": "stdout",
          "output_type": "stream",
          "text": [
            "Dataset Shape: (614, 6)\n"
          ]
        },
        {
          "data": {
            "text/html": [
              "<div>\n",
              "<style scoped>\n",
              "    .dataframe tbody tr th:only-of-type {\n",
              "        vertical-align: middle;\n",
              "    }\n",
              "\n",
              "    .dataframe tbody tr th {\n",
              "        vertical-align: top;\n",
              "    }\n",
              "\n",
              "    .dataframe thead th {\n",
              "        text-align: right;\n",
              "    }\n",
              "</style>\n",
              "<table border=\"1\" class=\"dataframe\">\n",
              "  <thead>\n",
              "    <tr style=\"text-align: right;\">\n",
              "      <th></th>\n",
              "      <th>Name</th>\n",
              "      <th>dtypes</th>\n",
              "      <th>Missing</th>\n",
              "      <th>Uniques</th>\n",
              "      <th>First Value</th>\n",
              "      <th>Second Value</th>\n",
              "    </tr>\n",
              "  </thead>\n",
              "  <tbody>\n",
              "    <tr>\n",
              "      <th>0</th>\n",
              "      <td>ApplicantIncome</td>\n",
              "      <td>float64</td>\n",
              "      <td>2</td>\n",
              "      <td>503</td>\n",
              "      <td>5849.0</td>\n",
              "      <td>4583.0</td>\n",
              "    </tr>\n",
              "    <tr>\n",
              "      <th>1</th>\n",
              "      <td>CoapplicantIncome</td>\n",
              "      <td>float64</td>\n",
              "      <td>2</td>\n",
              "      <td>287</td>\n",
              "      <td>0.0</td>\n",
              "      <td>1508.0</td>\n",
              "    </tr>\n",
              "    <tr>\n",
              "      <th>2</th>\n",
              "      <td>LoanAmount</td>\n",
              "      <td>float64</td>\n",
              "      <td>3</td>\n",
              "      <td>203</td>\n",
              "      <td>0.0</td>\n",
              "      <td>128.0</td>\n",
              "    </tr>\n",
              "    <tr>\n",
              "      <th>3</th>\n",
              "      <td>Loan_Amount_Term</td>\n",
              "      <td>float64</td>\n",
              "      <td>2</td>\n",
              "      <td>11</td>\n",
              "      <td>360.0</td>\n",
              "      <td>360.0</td>\n",
              "    </tr>\n",
              "    <tr>\n",
              "      <th>4</th>\n",
              "      <td>Credit_History</td>\n",
              "      <td>object</td>\n",
              "      <td>0</td>\n",
              "      <td>2</td>\n",
              "      <td>Yes</td>\n",
              "      <td>Yes</td>\n",
              "    </tr>\n",
              "    <tr>\n",
              "      <th>5</th>\n",
              "      <td>Loan_Status</td>\n",
              "      <td>int64</td>\n",
              "      <td>0</td>\n",
              "      <td>2</td>\n",
              "      <td>1</td>\n",
              "      <td>0</td>\n",
              "    </tr>\n",
              "  </tbody>\n",
              "</table>\n",
              "</div>"
            ],
            "text/plain": [
              "                Name   dtypes  Missing  Uniques First Value Second Value\n",
              "0    ApplicantIncome  float64        2      503      5849.0       4583.0\n",
              "1  CoapplicantIncome  float64        2      287         0.0       1508.0\n",
              "2         LoanAmount  float64        3      203         0.0        128.0\n",
              "3   Loan_Amount_Term  float64        2       11       360.0        360.0\n",
              "4     Credit_History   object        0        2         Yes          Yes\n",
              "5        Loan_Status    int64        0        2           1            0"
            ]
          },
          "execution_count": 33,
          "metadata": {},
          "output_type": "execute_result"
        }
      ],
      "source": [
        "result = resumetable(df)\n",
        "result"
      ]
    },
    {
      "cell_type": "markdown",
      "metadata": {},
      "source": [
        "### Data Preprocessing for Model"
      ]
    },
    {
      "cell_type": "code",
      "execution_count": 44,
      "metadata": {
        "colab": {},
        "colab_type": "code",
        "id": "bwTgwzIM5PoF"
      },
      "outputs": [
        {
          "name": "stdout",
          "output_type": "stream",
          "text": [
            "Event Rate:  0.6872964169381107\n"
          ]
        }
      ],
      "source": [
        "target_col = \"Loan_Status\"\n",
        "print(\"Event Rate: \",df[\"Loan_Status\"].mean())\n",
        "X = df.drop(columns=target_col)\n",
        "y = df[target_col]"
      ]
    },
    {
      "cell_type": "code",
      "execution_count": 35,
      "metadata": {
        "colab": {},
        "colab_type": "code",
        "id": "5vi_Co5e5qUX"
      },
      "outputs": [],
      "source": [
        "X_train, X_test, y_train, y_test = train_test_split(X, y, \n",
        "                                                    test_size=0.20, \n",
        "                                                    random_state=42)"
      ]
    },
    {
      "cell_type": "code",
      "execution_count": 36,
      "metadata": {},
      "outputs": [
        {
          "name": "stdout",
          "output_type": "stream",
          "text": [
            "(491, 5) (491,)\n",
            "(123, 5) (123,)\n"
          ]
        }
      ],
      "source": [
        "print(X_train.shape, y_train.shape)\n",
        "print(X_test.shape,y_test.shape)"
      ]
    },
    {
      "cell_type": "code",
      "execution_count": 37,
      "metadata": {
        "colab": {},
        "colab_type": "code",
        "id": "zeXK9uaaBc-s"
      },
      "outputs": [],
      "source": [
        "features = list(X_train.columns)\n",
        "cat_features = [\"Credit_History\"]"
      ]
    },
    {
      "cell_type": "code",
      "execution_count": 15,
      "metadata": {
        "colab": {},
        "colab_type": "code",
        "id": "QwgODY1MBgUa"
      },
      "outputs": [],
      "source": []
    },
    {
      "cell_type": "code",
      "execution_count": 38,
      "metadata": {},
      "outputs": [],
      "source": [
        "# Create pool objects\n",
        "train_pool = Pool(X_train, y_train, cat_features=cat_features)\n",
        "test_pool = Pool(X_test, y_test, cat_features=cat_features)"
      ]
    },
    {
      "cell_type": "code",
      "execution_count": 39,
      "metadata": {},
      "outputs": [
        {
          "data": {
            "application/vnd.jupyter.widget-view+json": {
              "model_id": "94771270e8904e0f9fb0d3a6b46b8678",
              "version_major": 2,
              "version_minor": 0
            },
            "text/plain": [
              "MetricVisualizer(layout=Layout(align_self='stretch', height='500px'))"
            ]
          },
          "metadata": {},
          "output_type": "display_data"
        },
        {
          "name": "stdout",
          "output_type": "stream",
          "text": [
            "0:\ttest: 0.7120640\tbest: 0.7120640 (0)\ttotal: 267ms\tremaining: 5.08s\n",
            "5:\ttest: 0.7047965\tbest: 0.7129360 (3)\ttotal: 272ms\tremaining: 634ms\n",
            "10:\ttest: 0.6854651\tbest: 0.7129360 (3)\ttotal: 275ms\tremaining: 225ms\n",
            "Stopped by overfitting detector  (10 iterations wait)\n",
            "\n",
            "bestTest = 0.7129360465\n",
            "bestIteration = 3\n",
            "\n",
            "Shrink model to first 4 iterations.\n"
          ]
        },
        {
          "data": {
            "text/plain": [
              "<catboost.core.CatBoostClassifier at 0x2212acf0820>"
            ]
          },
          "execution_count": 39,
          "metadata": {},
          "output_type": "execute_result"
        }
      ],
      "source": [
        "# Initialize and train the model\n",
        "model_cb = CatBoostClassifier(\n",
        "    iterations=20,\n",
        "    learning_rate=0.1,\n",
        "    depth=2,\n",
        "    l2_leaf_reg=2,\n",
        "    loss_function='Logloss',\n",
        "    eval_metric='AUC',\n",
        "    random_seed=42,\n",
        "    od_type='Iter',\n",
        "    od_wait=10,\n",
        "    verbose=5\n",
        ")\n",
        "\n",
        "model_cb.fit(train_pool, eval_set=test_pool, plot=True)"
      ]
    },
    {
      "cell_type": "markdown",
      "metadata": {},
      "source": [
        "### Model Predictions and evaluation"
      ]
    },
    {
      "cell_type": "code",
      "execution_count": 45,
      "metadata": {},
      "outputs": [
        {
          "name": "stdout",
          "output_type": "stream",
          "text": [
            "Classification Report:\n",
            "              precision    recall  f1-score   support\n",
            "\n",
            "           0       0.76      0.51      0.61        43\n",
            "           1       0.78      0.91      0.84        80\n",
            "\n",
            "    accuracy                           0.77       123\n",
            "   macro avg       0.77      0.71      0.73       123\n",
            "weighted avg       0.77      0.77      0.76       123\n",
            "\n",
            "\n",
            "Confusion Matrix:\n",
            "[[22 21]\n",
            " [ 7 73]]\n",
            "\n",
            "ROC AUC Score: 0.713\n"
          ]
        }
      ],
      "source": [
        "# Make predictions\n",
        "y_pred = model_cb.predict(X_test)\n",
        "y_pred_proba = model_cb.predict_proba(X_test)[:, 1]\n",
        "\n",
        "# Print model performance metrics\n",
        "print(\"Classification Report:\")\n",
        "print(classification_report(y_test, y_pred))\n",
        "\n",
        "print(\"\\nConfusion Matrix:\")\n",
        "print(confusion_matrix(y_test, y_pred))\n",
        "\n",
        "print(f\"\\nROC AUC Score: {roc_auc_score(y_test, y_pred_proba):.3f}\")"
      ]
    },
    {
      "cell_type": "markdown",
      "metadata": {},
      "source": [
        "### Feature Importances"
      ]
    },
    {
      "cell_type": "code",
      "execution_count": 50,
      "metadata": {},
      "outputs": [
        {
          "data": {
            "text/html": [
              "<div>\n",
              "<style scoped>\n",
              "    .dataframe tbody tr th:only-of-type {\n",
              "        vertical-align: middle;\n",
              "    }\n",
              "\n",
              "    .dataframe tbody tr th {\n",
              "        vertical-align: top;\n",
              "    }\n",
              "\n",
              "    .dataframe thead th {\n",
              "        text-align: right;\n",
              "    }\n",
              "</style>\n",
              "<table border=\"1\" class=\"dataframe\">\n",
              "  <thead>\n",
              "    <tr style=\"text-align: right;\">\n",
              "      <th></th>\n",
              "      <th>Feature</th>\n",
              "      <th>Importance</th>\n",
              "    </tr>\n",
              "  </thead>\n",
              "  <tbody>\n",
              "    <tr>\n",
              "      <th>4</th>\n",
              "      <td>Credit_History</td>\n",
              "      <td>98.658095</td>\n",
              "    </tr>\n",
              "    <tr>\n",
              "      <th>2</th>\n",
              "      <td>LoanAmount</td>\n",
              "      <td>0.746518</td>\n",
              "    </tr>\n",
              "    <tr>\n",
              "      <th>1</th>\n",
              "      <td>CoapplicantIncome</td>\n",
              "      <td>0.595387</td>\n",
              "    </tr>\n",
              "    <tr>\n",
              "      <th>0</th>\n",
              "      <td>ApplicantIncome</td>\n",
              "      <td>0.000000</td>\n",
              "    </tr>\n",
              "    <tr>\n",
              "      <th>3</th>\n",
              "      <td>Loan_Amount_Term</td>\n",
              "      <td>0.000000</td>\n",
              "    </tr>\n",
              "  </tbody>\n",
              "</table>\n",
              "</div>"
            ],
            "text/plain": [
              "             Feature  Importance\n",
              "4     Credit_History   98.658095\n",
              "2         LoanAmount    0.746518\n",
              "1  CoapplicantIncome    0.595387\n",
              "0    ApplicantIncome    0.000000\n",
              "3   Loan_Amount_Term    0.000000"
            ]
          },
          "execution_count": 50,
          "metadata": {},
          "output_type": "execute_result"
        }
      ],
      "source": [
        "# Feature importance#-\n",
        "feature_importance = model_cb.feature_importances_\n",
        "feature_names = model_cb.feature_names_\n",
        "\n",
        "feature_importance_df = pd.DataFrame({'Feature': feature_names,'Importance': feature_importance})\n",
        "feature_importance_df = feature_importance_df.sort_values('Importance', ascending=False)\n",
        "feature_importance_df"
      ]
    }
  ],
  "metadata": {
    "accelerator": "GPU",
    "colab": {
      "collapsed_sections": [],
      "name": "CatBoost.ipynb",
      "provenance": []
    },
    "kernelspec": {
      "display_name": ".venv",
      "language": "python",
      "name": "python3"
    },
    "language_info": {
      "codemirror_mode": {
        "name": "ipython",
        "version": 3
      },
      "file_extension": ".py",
      "mimetype": "text/x-python",
      "name": "python",
      "nbconvert_exporter": "python",
      "pygments_lexer": "ipython3",
      "version": "3.10.2"
    },
    "widgets": {
      "application/vnd.jupyter.widget-state+json": {
        "1ca597be3cd14fd7b9b8d3fa59b05082": {
          "model_module": "@jupyter-widgets/base",
          "model_name": "DOMWidgetModel",
          "state": {
            "_dom_classes": [],
            "_model_module": "@jupyter-widgets/base",
            "_model_module_version": "1.2.0",
            "_model_name": "DOMWidgetModel",
            "_view_count": null,
            "_view_module": "catboost_module",
            "_view_module_version": "",
            "_view_name": "CatboostIpythonWidgetView",
            "data": {
              "catboost_info": {
                "content": {
                  "data": {
                    "iterations": [
                      {
                        "iteration": 0,
                        "learn": [
                          0.8571428571,
                          0.643387175
                        ],
                        "passed_time": 0.009083215488,
                        "remaining_time": 0.8992383333,
                        "test": [
                          0.7885304659,
                          0.6527852777
                        ]
                      },
                      {
                        "iteration": 1,
                        "learn": [
                          0.8553259141,
                          0.6085837705
                        ],
                        "passed_time": 0.01584797324,
                        "remaining_time": 0.7765506886,
                        "test": [
                          0.8275862069,
                          0.6192689341
                        ]
                      },
                      {
                        "iteration": 2,
                        "learn": [
                          0.8562300319,
                          0.583708603
                        ],
                        "passed_time": 0.02364400155,
                        "remaining_time": 0.7644893833,
                        "test": [
                          0.8251748252,
                          0.5972166766
                        ]
                      },
                      {
                        "iteration": 3,
                        "learn": [
                          0.8576,
                          0.5631626621
                        ],
                        "passed_time": 0.03145231407,
                        "remaining_time": 0.7548555376,
                        "test": [
                          0.8309859155,
                          0.5824761602
                        ]
                      },
                      {
                        "iteration": 4,
                        "learn": [
                          0.8557692308,
                          0.5474409117
                        ],
                        "passed_time": 0.03879072871,
                        "remaining_time": 0.7370238456,
                        "test": [
                          0.8309859155,
                          0.5735188376
                        ]
                      },
                      {
                        "iteration": 5,
                        "learn": [
                          0.8539325843,
                          0.5358822862
                        ],
                        "passed_time": 0.04412060876,
                        "remaining_time": 0.6912228706,
                        "test": [
                          0.8339222615,
                          0.5646922295
                        ]
                      },
                      {
                        "iteration": 6,
                        "learn": [
                          0.8520900322,
                          0.5242538267
                        ],
                        "passed_time": 0.05175453924,
                        "remaining_time": 0.6875960213,
                        "test": [
                          0.8309859155,
                          0.558824962
                        ]
                      },
                      {
                        "iteration": 7,
                        "learn": [
                          0.8502415459,
                          0.5186191382
                        ],
                        "passed_time": 0.05837411174,
                        "remaining_time": 0.671302285,
                        "test": [
                          0.8398576512,
                          0.5529298078
                        ]
                      },
                      {
                        "iteration": 8,
                        "learn": [
                          0.8520900322,
                          0.5140275422
                        ],
                        "passed_time": 0.06603964951,
                        "remaining_time": 0.6677342339,
                        "test": [
                          0.8309859155,
                          0.5531666197
                        ]
                      },
                      {
                        "iteration": 9,
                        "learn": [
                          0.8520900322,
                          0.5106442491
                        ],
                        "passed_time": 0.07083484533,
                        "remaining_time": 0.637513608,
                        "test": [
                          0.8368794326,
                          0.5491005282
                        ]
                      },
                      {
                        "iteration": 10,
                        "learn": [
                          0.8520900322,
                          0.5051686828
                        ],
                        "passed_time": 0.078182905,
                        "remaining_time": 0.6325707768,
                        "test": [
                          0.8309859155,
                          0.5489542919
                        ]
                      },
                      {
                        "iteration": 11,
                        "learn": [
                          0.8539325843,
                          0.5000729155
                        ],
                        "passed_time": 0.08639725515,
                        "remaining_time": 0.6335798711,
                        "test": [
                          0.8309859155,
                          0.5488109119
                        ]
                      },
                      {
                        "iteration": 12,
                        "learn": [
                          0.8557692308,
                          0.4962211293
                        ],
                        "passed_time": 0.09406626909,
                        "remaining_time": 0.6295204162,
                        "test": [
                          0.8251748252,
                          0.5492360533
                        ]
                      },
                      {
                        "iteration": 13,
                        "learn": [
                          0.8557692308,
                          0.4941055409
                        ],
                        "passed_time": 0.137532822,
                        "remaining_time": 0.8448444783,
                        "test": [
                          0.8251748252,
                          0.5464304656
                        ]
                      },
                      {
                        "iteration": 14,
                        "learn": [
                          0.8557692308,
                          0.4918320185
                        ],
                        "passed_time": 0.1513945882,
                        "remaining_time": 0.8579026663,
                        "test": [
                          0.8251748252,
                          0.5468528635
                        ]
                      },
                      {
                        "iteration": 15,
                        "learn": [
                          0.8576,
                          0.4884362882
                        ],
                        "passed_time": 0.1591059792,
                        "remaining_time": 0.8353063909,
                        "test": [
                          0.8251748252,
                          0.5464728595
                        ]
                      },
                      {
                        "iteration": 16,
                        "learn": [
                          0.8576,
                          0.4861620975
                        ],
                        "passed_time": 0.1673090826,
                        "remaining_time": 0.8168619915,
                        "test": [
                          0.8309859155,
                          0.545926888
                        ]
                      },
                      {
                        "iteration": 17,
                        "learn": [
                          0.8576,
                          0.4842252337
                        ],
                        "passed_time": 0.1747414056,
                        "remaining_time": 0.796044181,
                        "test": [
                          0.8251748252,
                          0.5483816363
                        ]
                      },
                      {
                        "iteration": 18,
                        "learn": [
                          0.8576,
                          0.4817596213
                        ],
                        "passed_time": 0.1821352555,
                        "remaining_time": 0.7764713523,
                        "test": [
                          0.8280701754,
                          0.5468905219
                        ]
                      },
                      {
                        "iteration": 19,
                        "learn": [
                          0.8594249201,
                          0.4769060641
                        ],
                        "passed_time": 0.189842086,
                        "remaining_time": 0.759368344,
                        "test": [
                          0.8280701754,
                          0.5472555677
                        ]
                      },
                      {
                        "iteration": 20,
                        "learn": [
                          0.8612440191,
                          0.4721568309
                        ],
                        "passed_time": 0.202526298,
                        "remaining_time": 0.761884645,
                        "test": [
                          0.8309859155,
                          0.5501227919
                        ]
                      },
                      {
                        "iteration": 21,
                        "learn": [
                          0.8612440191,
                          0.4672140228
                        ],
                        "passed_time": 0.2100559973,
                        "remaining_time": 0.7447439904,
                        "test": [
                          0.8280701754,
                          0.5501764608
                        ]
                      },
                      {
                        "iteration": 22,
                        "learn": [
                          0.8612440191,
                          0.464732966
                        ],
                        "passed_time": 0.2175390472,
                        "remaining_time": 0.7282828971,
                        "test": [
                          0.8309859155,
                          0.550110427
                        ]
                      },
                      {
                        "iteration": 23,
                        "learn": [
                          0.8580542265,
                          0.4600090528
                        ],
                        "passed_time": 0.2248735835,
                        "remaining_time": 0.712099681,
                        "test": [
                          0.8309859155,
                          0.5492843853
                        ]
                      },
                      {
                        "iteration": 24,
                        "learn": [
                          0.8594249201,
                          0.4596015949
                        ],
                        "passed_time": 0.2302051353,
                        "remaining_time": 0.6906154059,
                        "test": [
                          0.8309859155,
                          0.5483043652
                        ]
                      },
                      {
                        "iteration": 25,
                        "learn": [
                          0.8612440191,
                          0.4578640977
                        ],
                        "passed_time": 0.2375530484,
                        "remaining_time": 0.6761125225,
                        "test": [
                          0.8309859155,
                          0.5478673475
                        ]
                      },
                      {
                        "iteration": 26,
                        "learn": [
                          0.8594249201,
                          0.4556180114
                        ],
                        "passed_time": 0.2454389563,
                        "remaining_time": 0.6635942152,
                        "test": [
                          0.8309859155,
                          0.5468218197
                        ]
                      },
                      {
                        "iteration": 27,
                        "learn": [
                          0.8580542265,
                          0.4520890359
                        ],
                        "passed_time": 0.252966879,
                        "remaining_time": 0.6504862603,
                        "test": [
                          0.8280701754,
                          0.5456567774
                        ]
                      },
                      {
                        "iteration": 28,
                        "learn": [
                          0.8630573248,
                          0.4498143997
                        ],
                        "passed_time": 0.2604640797,
                        "remaining_time": 0.6376879192,
                        "test": [
                          0.8280701754,
                          0.5431110025
                        ]
                      },
                      {
                        "iteration": 29,
                        "learn": [
                          0.8630573248,
                          0.4475620762
                        ],
                        "passed_time": 0.2680729948,
                        "remaining_time": 0.6255036544,
                        "test": [
                          0.8280701754,
                          0.5438456042
                        ]
                      },
                      {
                        "iteration": 30,
                        "learn": [
                          0.8598726115,
                          0.4447837514
                        ],
                        "passed_time": 0.2753985156,
                        "remaining_time": 0.6129837928,
                        "test": [
                          0.8280701754,
                          0.5460085563
                        ]
                      },
                      {
                        "iteration": 31,
                        "learn": [
                          0.8598726115,
                          0.4408894931
                        ],
                        "passed_time": 0.2831154146,
                        "remaining_time": 0.6016202561,
                        "test": [
                          0.8280701754,
                          0.5492174496
                        ]
                      },
                      {
                        "iteration": 32,
                        "learn": [
                          0.8598726115,
                          0.4391978466
                        ],
                        "passed_time": 0.29143779,
                        "remaining_time": 0.5917070282,
                        "test": [
                          0.8251748252,
                          0.5480037746
                        ]
                      },
                      {
                        "iteration": 33,
                        "learn": [
                          0.8612440191,
                          0.4376400022
                        ],
                        "passed_time": 0.2993096927,
                        "remaining_time": 0.581012933,
                        "test": [
                          0.8251748252,
                          0.5486942911
                        ]
                      },
                      {
                        "iteration": 34,
                        "learn": [
                          0.8612440191,
                          0.4359179123
                        ],
                        "passed_time": 0.3067011882,
                        "remaining_time": 0.569587921,
                        "test": [
                          0.8251748252,
                          0.5482443072
                        ]
                      },
                      {
                        "iteration": 35,
                        "learn": [
                          0.8666666667,
                          0.4316447831
                        ],
                        "passed_time": 0.3144522211,
                        "remaining_time": 0.5590261709,
                        "test": [
                          0.8222996516,
                          0.5485028798
                        ]
                      },
                      {
                        "iteration": 36,
                        "learn": [
                          0.8648648649,
                          0.4278185768
                        ],
                        "passed_time": 0.3218832593,
                        "remaining_time": 0.5480714956,
                        "test": [
                          0.8222996516,
                          0.5509330486
                        ]
                      },
                      {
                        "iteration": 37,
                        "learn": [
                          0.8648648649,
                          0.4245084962
                        ],
                        "passed_time": 0.3293657948,
                        "remaining_time": 0.5373862968,
                        "test": [
                          0.8235294118,
                          0.5478620106
                        ]
                      },
                      {
                        "iteration": 38,
                        "learn": [
                          0.8684627575,
                          0.4229277451
                        ],
                        "passed_time": 0.3370815047,
                        "remaining_time": 0.5272300458,
                        "test": [
                          0.8235294118,
                          0.5498662112
                        ]
                      },
                      {
                        "iteration": 39,
                        "learn": [
                          0.8666666667,
                          0.4212210996
                        ],
                        "passed_time": 0.3445214744,
                        "remaining_time": 0.5167822116,
                        "test": [
                          0.8194444444,
                          0.5501265502
                        ]
                      },
                      {
                        "iteration": 40,
                        "learn": [
                          0.8680445151,
                          0.4181279092
                        ],
                        "passed_time": 0.3521361283,
                        "remaining_time": 0.5067324773,
                        "test": [
                          0.8235294118,
                          0.5503331076
                        ]
                      },
                      {
                        "iteration": 41,
                        "learn": [
                          0.8698412698,
                          0.4164474376
                        ],
                        "passed_time": 0.359713784,
                        "remaining_time": 0.4967476064,
                        "test": [
                          0.8235294118,
                          0.5510516989
                        ]
                      },
                      {
                        "iteration": 42,
                        "learn": [
                          0.8698412698,
                          0.4136482851
                        ],
                        "passed_time": 0.3671626495,
                        "remaining_time": 0.4867039773,
                        "test": [
                          0.8235294118,
                          0.5502871809
                        ]
                      },
                      {
                        "iteration": 43,
                        "learn": [
                          0.873015873,
                          0.4108964683
                        ],
                        "passed_time": 0.3744634428,
                        "remaining_time": 0.4765898363,
                        "test": [
                          0.8166089965,
                          0.5521222194
                        ]
                      },
                      {
                        "iteration": 44,
                        "learn": [
                          0.873015873,
                          0.4087972154
                        ],
                        "passed_time": 0.3819161185,
                        "remaining_time": 0.4667863671,
                        "test": [
                          0.8166089965,
                          0.5518554537
                        ]
                      },
                      {
                        "iteration": 45,
                        "learn": [
                          0.8761904762,
                          0.4064099017
                        ],
                        "passed_time": 0.3892413294,
                        "remaining_time": 0.4569354736,
                        "test": [
                          0.8235294118,
                          0.5528114958
                        ]
                      },
                      {
                        "iteration": 46,
                        "learn": [
                          0.8775834658,
                          0.4030367441
                        ],
                        "passed_time": 0.402267734,
                        "remaining_time": 0.4536210617,
                        "test": [
                          0.8235294118,
                          0.5513493204
                        ]
                      },
                      {
                        "iteration": 47,
                        "learn": [
                          0.8775834658,
                          0.4018356435
                        ],
                        "passed_time": 0.4099011936,
                        "remaining_time": 0.4440596264,
                        "test": [
                          0.8137931034,
                          0.551525473
                        ]
                      },
                      {
                        "iteration": 48,
                        "learn": [
                          0.8789808917,
                          0.4005160367
                        ],
                        "passed_time": 0.417294023,
                        "remaining_time": 0.4343264321,
                        "test": [
                          0.8194444444,
                          0.5528826032
                        ]
                      },
                      {
                        "iteration": 49,
                        "learn": [
                          0.8789808917,
                          0.3988542394
                        ],
                        "passed_time": 0.4248726618,
                        "remaining_time": 0.4248726618,
                        "test": [
                          0.8194444444,
                          0.5531408
                        ]
                      },
                      {
                        "iteration": 50,
                        "learn": [
                          0.8803827751,
                          0.3965973494
                        ],
                        "passed_time": 0.4323868459,
                        "remaining_time": 0.415430499,
                        "test": [
                          0.8194444444,
                          0.5537181911
                        ]
                      },
                      {
                        "iteration": 51,
                        "learn": [
                          0.8839427663,
                          0.3948451133
                        ],
                        "passed_time": 0.4512518655,
                        "remaining_time": 0.4165401835,
                        "test": [
                          0.8166089965,
                          0.5553791441
                        ]
                      },
                      {
                        "iteration": 52,
                        "learn": [
                          0.8835725678,
                          0.3917445719
                        ],
                        "passed_time": 0.4599209249,
                        "remaining_time": 0.4078544051,
                        "test": [
                          0.8166089965,
                          0.5556193009
                        ]
                      },
                      {
                        "iteration": 53,
                        "learn": [
                          0.8857142857,
                          0.3892844541
                        ],
                        "passed_time": 0.4673996403,
                        "remaining_time": 0.3981552491,
                        "test": [
                          0.8166089965,
                          0.5546596508
                        ]
                      },
                      {
                        "iteration": 54,
                        "learn": [
                          0.8857142857,
                          0.3877204839
                        ],
                        "passed_time": 0.4748460084,
                        "remaining_time": 0.3885103705,
                        "test": [
                          0.8166089965,
                          0.555554545
                        ]
                      },
                      {
                        "iteration": 55,
                        "learn": [
                          0.8871224165,
                          0.386018702
                        ],
                        "passed_time": 0.482211755,
                        "remaining_time": 0.3788806647,
                        "test": [
                          0.8166089965,
                          0.5556536895
                        ]
                      },
                      {
                        "iteration": 56,
                        "learn": [
                          0.8885350318,
                          0.3848901456
                        ],
                        "passed_time": 0.4904265134,
                        "remaining_time": 0.3699708786,
                        "test": [
                          0.8194444444,
                          0.5574700116
                        ]
                      },
                      {
                        "iteration": 57,
                        "learn": [
                          0.8899521531,
                          0.3840698836
                        ],
                        "passed_time": 0.4980852758,
                        "remaining_time": 0.3606824411,
                        "test": [
                          0.8194444444,
                          0.5576416542
                        ]
                      },
                      {
                        "iteration": 58,
                        "learn": [
                          0.8885350318,
                          0.3816513841
                        ],
                        "passed_time": 0.5056822054,
                        "remaining_time": 0.3514062783,
                        "test": [
                          0.8137931034,
                          0.5577386565
                        ]
                      },
                      {
                        "iteration": 59,
                        "learn": [
                          0.8899521531,
                          0.3807543827
                        ],
                        "passed_time": 0.5131434943,
                        "remaining_time": 0.3420956629,
                        "test": [
                          0.8137931034,
                          0.5581030634
                        ]
                      },
                      {
                        "iteration": 60,
                        "learn": [
                          0.8899521531,
                          0.3787213625
                        ],
                        "passed_time": 0.5204658125,
                        "remaining_time": 0.3327568309,
                        "test": [
                          0.8137931034,
                          0.5583718586
                        ]
                      },
                      {
                        "iteration": 61,
                        "learn": [
                          0.8931419458,
                          0.3775609149
                        ],
                        "passed_time": 0.5279731286,
                        "remaining_time": 0.3235964337,
                        "test": [
                          0.8166089965,
                          0.5585014456
                        ]
                      },
                      {
                        "iteration": 62,
                        "learn": [
                          0.8928,
                          0.3761521314
                        ],
                        "passed_time": 0.5356668579,
                        "remaining_time": 0.3145979959,
                        "test": [
                          0.8166089965,
                          0.5592346191
                        ]
                      },
                      {
                        "iteration": 63,
                        "learn": [
                          0.8942307692,
                          0.3742220988
                        ],
                        "passed_time": 0.5434480098,
                        "remaining_time": 0.3056895055,
                        "test": [
                          0.8137931034,
                          0.5596657363
                        ]
                      },
                      {
                        "iteration": 64,
                        "learn": [
                          0.896,
                          0.3723103693
                        ],
                        "passed_time": 0.5514982151,
                        "remaining_time": 0.2969605774,
                        "test": [
                          0.8096885813,
                          0.559635557
                        ]
                      },
                      {
                        "iteration": 65,
                        "learn": [
                          0.896,
                          0.3696010989
                        ],
                        "passed_time": 0.5592003612,
                        "remaining_time": 0.2880729133,
                        "test": [
                          0.8125,
                          0.5610511291
                        ]
                      },
                      {
                        "iteration": 66,
                        "learn": [
                          0.8988764045,
                          0.3684210487
                        ],
                        "passed_time": 0.5664473801,
                        "remaining_time": 0.2789964708,
                        "test": [
                          0.8027681661,
                          0.5620715512
                        ]
                      },
                      {
                        "iteration": 67,
                        "learn": [
                          0.8985507246,
                          0.3663061657
                        ],
                        "passed_time": 0.5741049503,
                        "remaining_time": 0.2701670354,
                        "test": [
                          0.8083623693,
                          0.5619022012
                        ]
                      },
                      {
                        "iteration": 68,
                        "learn": [
                          0.8953301127,
                          0.3653655783
                        ],
                        "passed_time": 0.5818113291,
                        "remaining_time": 0.2613934957,
                        "test": [
                          0.8083623693,
                          0.5618971275
                        ]
                      },
                      {
                        "iteration": 69,
                        "learn": [
                          0.8938906752,
                          0.3626699703
                        ],
                        "passed_time": 0.5892843609,
                        "remaining_time": 0.2525504404,
                        "test": [
                          0.8083623693,
                          0.5614275251
                        ]
                      },
                      {
                        "iteration": 70,
                        "learn": [
                          0.8924558587,
                          0.3619405927
                        ],
                        "passed_time": 0.6021595767,
                        "remaining_time": 0.2459525031,
                        "test": [
                          0.8083623693,
                          0.5617920072
                        ]
                      },
                      {
                        "iteration": 71,
                        "learn": [
                          0.8924558587,
                          0.3602685487
                        ],
                        "passed_time": 0.6097863835,
                        "remaining_time": 0.2371391491,
                        "test": [
                          0.8083623693,
                          0.5626416888
                        ]
                      },
                      {
                        "iteration": 72,
                        "learn": [
                          0.8924558587,
                          0.3597002981
                        ],
                        "passed_time": 0.6325880943,
                        "remaining_time": 0.233970939,
                        "test": [
                          0.8083623693,
                          0.5625481065
                        ]
                      },
                      {
                        "iteration": 73,
                        "learn": [
                          0.8956661316,
                          0.3585029472
                        ],
                        "passed_time": 0.6399243997,
                        "remaining_time": 0.2248383026,
                        "test": [
                          0.8083623693,
                          0.5638084975
                        ]
                      },
                      {
                        "iteration": 74,
                        "learn": [
                          0.8956661316,
                          0.3580608878
                        ],
                        "passed_time": 0.6472183672,
                        "remaining_time": 0.2157394557,
                        "test": [
                          0.8083623693,
                          0.5638233429
                        ]
                      },
                      {
                        "iteration": 75,
                        "learn": [
                          0.8956661316,
                          0.3569435435
                        ],
                        "passed_time": 0.6544999605,
                        "remaining_time": 0.206684198,
                        "test": [
                          0.8083623693,
                          0.5628146843
                        ]
                      },
                      {
                        "iteration": 76,
                        "learn": [
                          0.8956661316,
                          0.3562111216
                        ],
                        "passed_time": 0.662285289,
                        "remaining_time": 0.1978254759,
                        "test": [
                          0.8083623693,
                          0.5627445916
                        ]
                      },
                      {
                        "iteration": 77,
                        "learn": [
                          0.8985507246,
                          0.3542824256
                        ],
                        "passed_time": 0.6699856071,
                        "remaining_time": 0.1889702994,
                        "test": [
                          0.8055555556,
                          0.5618920538
                        ]
                      },
                      {
                        "iteration": 78,
                        "learn": [
                          0.8985507246,
                          0.3528677019
                        ],
                        "passed_time": 0.6779485673,
                        "remaining_time": 0.1802141761,
                        "test": [
                          0.8055555556,
                          0.562502706
                        ]
                      },
                      {
                        "iteration": 79,
                        "learn": [
                          0.9003215434,
                          0.3520141008
                        ],
                        "passed_time": 0.6855559245,
                        "remaining_time": 0.1713889811,
                        "test": [
                          0.8083623693,
                          0.5628635801
                        ]
                      },
                      {
                        "iteration": 80,
                        "learn": [
                          0.9,
                          0.350844483
                        ],
                        "passed_time": 0.6932382284,
                        "remaining_time": 0.1626114363,
                        "test": [
                          0.8083623693,
                          0.5634486006
                        ]
                      },
                      {
                        "iteration": 81,
                        "learn": [
                          0.9038461538,
                          0.3483908252
                        ],
                        "passed_time": 0.7008305518,
                        "remaining_time": 0.1538408528,
                        "test": [
                          0.8083623693,
                          0.564670356
                        ]
                      },
                      {
                        "iteration": 82,
                        "learn": [
                          0.9099678457,
                          0.3472053546
                        ],
                        "passed_time": 0.7083339465,
                        "remaining_time": 0.1450804469,
                        "test": [
                          0.8083623693,
                          0.5635376352
                        ]
                      },
                      {
                        "iteration": 83,
                        "learn": [
                          0.9143780291,
                          0.3457252521
                        ],
                        "passed_time": 0.7157009557,
                        "remaining_time": 0.1363239916,
                        "test": [
                          0.8055555556,
                          0.5635361695
                        ]
                      },
                      {
                        "iteration": 84,
                        "learn": [
                          0.9143780291,
                          0.3444635619
                        ],
                        "passed_time": 0.7229640386,
                        "remaining_time": 0.1275818892,
                        "test": [
                          0.8055555556,
                          0.5655418358
                        ]
                      },
                      {
                        "iteration": 85,
                        "learn": [
                          0.9143780291,
                          0.3432250383
                        ],
                        "passed_time": 0.7303222298,
                        "remaining_time": 0.1188896653,
                        "test": [
                          0.8055555556,
                          0.5651807362
                        ]
                      },
                      {
                        "iteration": 86,
                        "learn": [
                          0.9143780291,
                          0.3425951213
                        ],
                        "passed_time": 0.73814597,
                        "remaining_time": 0.1102976737,
                        "test": [
                          0.8055555556,
                          0.5665423013
                        ]
                      },
                      {
                        "iteration": 87,
                        "learn": [
                          0.9143780291,
                          0.3413471305
                        ],
                        "passed_time": 0.7456233507,
                        "remaining_time": 0.1016759115,
                        "test": [
                          0.8013937282,
                          0.5666089739
                        ]
                      },
                      {
                        "iteration": 88,
                        "learn": [
                          0.9158576052,
                          0.3404111468
                        ],
                        "passed_time": 0.7571243702,
                        "remaining_time": 0.09357716935,
                        "test": [
                          0.8013937282,
                          0.5671341619
                        ]
                      },
                      {
                        "iteration": 89,
                        "learn": [
                          0.9158576052,
                          0.3392596465
                        ],
                        "passed_time": 0.7772194212,
                        "remaining_time": 0.08635771347,
                        "test": [
                          0.8013937282,
                          0.566622128
                        ]
                      },
                      {
                        "iteration": 90,
                        "learn": [
                          0.9158576052,
                          0.3387427411
                        ],
                        "passed_time": 0.7846252749,
                        "remaining_time": 0.07760030191,
                        "test": [
                          0.8055555556,
                          0.5661734971
                        ]
                      },
                      {
                        "iteration": 91,
                        "learn": [
                          0.9129032258,
                          0.3375667377
                        ],
                        "passed_time": 0.7924959359,
                        "remaining_time": 0.06891269008,
                        "test": [
                          0.8013937282,
                          0.566857399
                        ]
                      },
                      {
                        "iteration": 92,
                        "learn": [
                          0.9129032258,
                          0.3359966046
                        ],
                        "passed_time": 0.8047489593,
                        "remaining_time": 0.06057250231,
                        "test": [
                          0.8055555556,
                          0.5674751921
                        ]
                      },
                      {
                        "iteration": 93,
                        "learn": [
                          0.9129032258,
                          0.3350145846
                        ],
                        "passed_time": 0.8122052046,
                        "remaining_time": 0.0518428854,
                        "test": [
                          0.8055555556,
                          0.5671877931
                        ]
                      },
                      {
                        "iteration": 94,
                        "learn": [
                          0.9129032258,
                          0.3331896928
                        ],
                        "passed_time": 0.8197550456,
                        "remaining_time": 0.0431450024,
                        "test": [
                          0.8055555556,
                          0.565943375
                        ]
                      },
                      {
                        "iteration": 95,
                        "learn": [
                          0.9143780291,
                          0.3318649255
                        ],
                        "passed_time": 0.8272342898,
                        "remaining_time": 0.03446809541,
                        "test": [
                          0.8055555556,
                          0.5657128019
                        ]
                      },
                      {
                        "iteration": 96,
                        "learn": [
                          0.9143780291,
                          0.3305913178
                        ],
                        "passed_time": 0.8347285264,
                        "remaining_time": 0.02581634618,
                        "test": [
                          0.8055555556,
                          0.566067099
                        ]
                      },
                      {
                        "iteration": 97,
                        "learn": [
                          0.9143780291,
                          0.329530108
                        ],
                        "passed_time": 0.8423019737,
                        "remaining_time": 0.0171898362,
                        "test": [
                          0.8055555556,
                          0.5661128754
                        ]
                      },
                      {
                        "iteration": 98,
                        "learn": [
                          0.9143780291,
                          0.3281957622
                        ],
                        "passed_time": 0.8495945829,
                        "remaining_time": 0.008581763464,
                        "test": [
                          0.8055555556,
                          0.5668514609
                        ]
                      },
                      {
                        "iteration": 99,
                        "learn": [
                          0.9143780291,
                          0.3270095862
                        ],
                        "passed_time": 0.8568995994,
                        "remaining_time": 0,
                        "test": [
                          0.8055555556,
                          0.5679107816
                        ]
                      }
                    ],
                    "meta": {
                      "iteration_count": 100,
                      "launch_mode": "Train",
                      "learn_metrics": [
                        {
                          "best_value": "Max",
                          "name": "F1"
                        },
                        {
                          "best_value": "Min",
                          "name": "Logloss"
                        }
                      ],
                      "learn_sets": [
                        "learn"
                      ],
                      "name": "experiment",
                      "parameters": "",
                      "test_metrics": [
                        {
                          "best_value": "Max",
                          "name": "F1"
                        },
                        {
                          "best_value": "Min",
                          "name": "Logloss"
                        }
                      ],
                      "test_sets": [
                        "test"
                      ]
                    }
                  },
                  "passed_iterations": 99,
                  "total_iterations": 100
                },
                "name": "catboost_info",
                "path": "catboost_info"
              }
            },
            "layout": "IPY_MODEL_b4130936992d4fc3a434cbce5f096a95"
          }
        },
        "b4130936992d4fc3a434cbce5f096a95": {
          "model_module": "@jupyter-widgets/base",
          "model_name": "LayoutModel",
          "state": {
            "_model_module": "@jupyter-widgets/base",
            "_model_module_version": "1.2.0",
            "_model_name": "LayoutModel",
            "_view_count": null,
            "_view_module": "@jupyter-widgets/base",
            "_view_module_version": "1.2.0",
            "_view_name": "LayoutView",
            "align_content": null,
            "align_items": null,
            "align_self": "stretch",
            "border": null,
            "bottom": null,
            "display": null,
            "flex": null,
            "flex_flow": null,
            "grid_area": null,
            "grid_auto_columns": null,
            "grid_auto_flow": null,
            "grid_auto_rows": null,
            "grid_column": null,
            "grid_gap": null,
            "grid_row": null,
            "grid_template_areas": null,
            "grid_template_columns": null,
            "grid_template_rows": null,
            "height": "500px",
            "justify_content": null,
            "justify_items": null,
            "left": null,
            "margin": null,
            "max_height": null,
            "max_width": null,
            "min_height": null,
            "min_width": null,
            "object_fit": null,
            "object_position": null,
            "order": null,
            "overflow": null,
            "overflow_x": null,
            "overflow_y": null,
            "padding": null,
            "right": null,
            "top": null,
            "visibility": null,
            "width": null
          }
        }
      }
    }
  },
  "nbformat": 4,
  "nbformat_minor": 0
}
